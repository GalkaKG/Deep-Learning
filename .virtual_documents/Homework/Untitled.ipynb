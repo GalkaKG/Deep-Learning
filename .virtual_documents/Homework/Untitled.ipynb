








from transformers import BartForConditionalGeneration, BartTokenizer

model_name = "facebook/bart-large-cnn"
tokenizer = BartTokenizer.from_pretrained(model_name)
model = BartForConditionalGeneration.from_pretrained(model_name)



# Example text
text = """The best and most beautiful things in the world cannot be seen or even touched - they must be felt with the heart. In the end, it‘s not the years in your life that count. It’s the life in your years."""

# Tokenization and generate
inputs = tokenizer(text, max_length=1024, return_tensors="pt", truncation=True)
summary_ids = model.generate(inputs["input_ids"], max_length=50, min_length=20, length_penalty=2.0, num_beams=4, early_stopping=True)

# Summary text
summary = tokenizer.decode(summary_ids[0], skip_special_tokens=True)
print("Summary:", summary)




