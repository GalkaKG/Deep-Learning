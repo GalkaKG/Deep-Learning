{
 "cells": [
  {
   "cell_type": "markdown",
   "id": "6ad29fc3-f259-4fd7-986c-b26b98a4713d",
   "metadata": {},
   "source": [
    "# Review of Article:  \"BART: Denoising Sequence-to-Sequence Pre-training for Natural Language Generation, Translation, and Comprehension\"\n",
    "\n",
    "Link to article: https://arxiv.org/pdf/1910.13461"
   ]
  },
  {
   "cell_type": "markdown",
   "id": "8e109dbf-804c-4540-bfd1-dd1a3a2db655",
   "metadata": {},
   "source": [
    "### Authors\n",
    "\n",
    "- Mike Lewis, \n",
    "- Yinhan Liu, \n",
    "- Naman Goyal, \n",
    "- Marjan Ghazvininejad, \n",
    "- Abdelrahman Mohamed, \n",
    "- Omer Levy, \n",
    "- Ves Stoyanov, \n",
    "- Luke Zettlemoyer"
   ]
  }
 ],
 "metadata": {
  "kernelspec": {
   "display_name": "Python 3 (ipykernel)",
   "language": "python",
   "name": "python3"
  },
  "language_info": {
   "codemirror_mode": {
    "name": "ipython",
    "version": 3
   },
   "file_extension": ".py",
   "mimetype": "text/x-python",
   "name": "python",
   "nbconvert_exporter": "python",
   "pygments_lexer": "ipython3",
   "version": "3.9.12"
  }
 },
 "nbformat": 4,
 "nbformat_minor": 5
}
