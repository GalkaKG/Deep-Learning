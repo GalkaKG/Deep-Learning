{
 "cells": [
  {
   "cell_type": "markdown",
   "id": "4ad75661-28ae-4ea0-9907-8ced6c3f6d1a",
   "metadata": {},
   "source": [
    "# Review of Article: \n",
    "## Deep-Learning-Based Network for Lane Following in Autonomous Vehicles\n",
    "\n",
    "\n",
    "\n",
    "### Authors\n",
    "Abida Khanum 1, Chao-Yang Lee 2,*ORCID and Chu-Sing Yang 1\n",
    "\n",
    "### Source:\n",
    "Electronics 2022, 11(19), 3084; https://doi.org/10.3390/electronics11193084\n",
    "Submission received: 29 July 2022 / Revised: 20 September 2022 / Accepted: 23 September 2022 / Published: 27 September 2022"
   ]
  },
  {
   "cell_type": "code",
   "execution_count": null,
   "id": "5ab346de-7401-450f-bcdb-09fabb905210",
   "metadata": {},
   "outputs": [],
   "source": []
  }
 ],
 "metadata": {
  "kernelspec": {
   "display_name": "Python 3 (ipykernel)",
   "language": "python",
   "name": "python3"
  },
  "language_info": {
   "codemirror_mode": {
    "name": "ipython",
    "version": 3
   },
   "file_extension": ".py",
   "mimetype": "text/x-python",
   "name": "python",
   "nbconvert_exporter": "python",
   "pygments_lexer": "ipython3",
   "version": "3.11.7"
  }
 },
 "nbformat": 4,
 "nbformat_minor": 5
}
