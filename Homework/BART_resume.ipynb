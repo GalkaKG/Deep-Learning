{
 "cells": [
  {
   "cell_type": "markdown",
   "id": "6ad29fc3-f259-4fd7-986c-b26b98a4713d",
   "metadata": {},
   "source": [
    "# Review of Article:  \"BART: Denoising Sequence-to-Sequence Pre-training for Natural Language Generation, Translation, and Comprehension\"\n",
    "\n",
    "Link to article: https://arxiv.org/pdf/1910.13461"
   ]
  },
  {
   "cell_type": "markdown",
   "id": "8e109dbf-804c-4540-bfd1-dd1a3a2db655",
   "metadata": {},
   "source": [
    "### Authors\n",
    "\n",
    "- Mike Lewis, \n",
    "- Yinhan Liu, \n",
    "- Naman Goyal, \n",
    "- Marjan Ghazvininejad, \n",
    "- Abdelrahman Mohamed, \n",
    "- Omer Levy, \n",
    "- Ves Stoyanov, \n",
    "- Luke Zettlemoyer"
   ]
  },
  {
   "cell_type": "markdown",
   "id": "e95bbeaa-7bc7-458d-a742-438491be7e45",
   "metadata": {},
   "source": [
    "BART, short for Bidirectional Encoder Representations from Transformers, is a novel sequence-to-sequence denoising autoencoder introduced by Lewis et al. (2019). This model is designed to address the challenges of natural language generation, translation, and comprehension tasks. By corrupting text with various noise functions and training the model to reconstruct the original text, BART learns robust representations that capture the underlying semantics of language.\n",
    "\n",
    "BART employs a bidirectional encoder and decoder architecture, similar to the Transformer model, but with several key differences. The model is trained on a large corpus of text by corrupting the input sequence with various noise functions, such as token masking, random shuffling, and sentence deletion. During training, BART is tasked with reconstructing the original sequence from the corrupted input. This process enables the model to learn deep bidirectional representations that capture the semantic and syntactic structure of language."
   ]
  }
 ],
 "metadata": {
  "kernelspec": {
   "display_name": "Python 3 (ipykernel)",
   "language": "python",
   "name": "python3"
  },
  "language_info": {
   "codemirror_mode": {
    "name": "ipython",
    "version": 3
   },
   "file_extension": ".py",
   "mimetype": "text/x-python",
   "name": "python",
   "nbconvert_exporter": "python",
   "pygments_lexer": "ipython3",
   "version": "3.11.7"
  }
 },
 "nbformat": 4,
 "nbformat_minor": 5
}
