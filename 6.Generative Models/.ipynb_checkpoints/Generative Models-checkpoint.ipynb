{
 "cells": [
  {
   "cell_type": "markdown",
   "id": "6ee3410d-7600-4029-9c4f-899d4d192aae",
   "metadata": {},
   "source": [
    "# Generative Models\n"
   ]
  },
  {
   "cell_type": "markdown",
   "id": "e8b8636f-35cf-4ab5-9f77-6037239e1f42",
   "metadata": {},
   "source": [
    "### GAN - Generative Adversarial Networks\n",
    "\n",
    "- __CycleGAN__\n",
    "\n",
    "- __Conditional GAN__\n",
    "\n",
    "- __SRGAN__ is a generative adversarial network for single image super-resolution.\n",
    "\n",
    "\n",
    "### Stable Difusion"
   ]
  }
 ],
 "metadata": {
  "kernelspec": {
   "display_name": "Python 3 (ipykernel)",
   "language": "python",
   "name": "python3"
  },
  "language_info": {
   "codemirror_mode": {
    "name": "ipython",
    "version": 3
   },
   "file_extension": ".py",
   "mimetype": "text/x-python",
   "name": "python",
   "nbconvert_exporter": "python",
   "pygments_lexer": "ipython3",
   "version": "3.9.12"
  }
 },
 "nbformat": 4,
 "nbformat_minor": 5
}
