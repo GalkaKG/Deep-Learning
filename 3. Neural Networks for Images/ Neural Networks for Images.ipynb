{
 "cells": [
  {
   "cell_type": "markdown",
   "id": "de2a6291-9bb0-4b62-a0fd-15af9b07e950",
   "metadata": {},
   "source": [
    "#  Neural Networks for Images"
   ]
  },
  {
   "cell_type": "code",
   "execution_count": null,
   "id": "8748891d-2fb9-4a8f-baf0-4423a6da01cf",
   "metadata": {},
   "outputs": [],
   "source": []
  }
 ],
 "metadata": {
  "kernelspec": {
   "display_name": "Python 3 (ipykernel)",
   "language": "python",
   "name": "python3"
  },
  "language_info": {
   "codemirror_mode": {
    "name": "ipython",
    "version": 3
   },
   "file_extension": ".py",
   "mimetype": "text/x-python",
   "name": "python",
   "nbconvert_exporter": "python",
   "pygments_lexer": "ipython3",
   "version": "3.9.12"
  }
 },
 "nbformat": 4,
 "nbformat_minor": 5
}
