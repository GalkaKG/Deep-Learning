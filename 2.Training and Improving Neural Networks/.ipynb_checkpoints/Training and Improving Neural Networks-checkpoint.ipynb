{
 "cells": [
  {
   "cell_type": "markdown",
   "id": "d795b025-2d2f-48c6-9f4e-e4192f7f66aa",
   "metadata": {},
   "source": [
    "# Training and Improving Neural Networks"
   ]
  },
  {
   "cell_type": "code",
   "execution_count": 1,
   "id": "ec930817-0460-4dfb-b1f6-4fb061f6eb06",
   "metadata": {},
   "outputs": [],
   "source": [
    "import tensorflow as tf\n",
    "from tensorflow.keras.layers import Layer"
   ]
  },
  {
   "cell_type": "code",
   "execution_count": 2,
   "id": "59d494cd-c8c9-4ce8-b316-37023d2f2796",
   "metadata": {},
   "outputs": [],
   "source": [
    "class MyLinear(Layer):\n",
    "    def __init__(self, units = 32, input_dim = 32):\n",
    "        super().__init__()\n",
    "        self.w = self.add_weight(\n",
    "            shape = (input_dim, units),\n",
    "            initializer = \"random_normal\")\n",
    "        self.b = self.add_weight(\n",
    "            shape = (units,),\n",
    "            initializer = \"zeros\")\n",
    "    \n",
    "    def call(self, inputs):\n",
    "        return tf.matmul(inputs, self.w) + self.b"
   ]
  }
 ],
 "metadata": {
  "kernelspec": {
   "display_name": "Python 3 (ipykernel)",
   "language": "python",
   "name": "python3"
  },
  "language_info": {
   "codemirror_mode": {
    "name": "ipython",
    "version": 3
   },
   "file_extension": ".py",
   "mimetype": "text/x-python",
   "name": "python",
   "nbconvert_exporter": "python",
   "pygments_lexer": "ipython3",
   "version": "3.9.12"
  }
 },
 "nbformat": 4,
 "nbformat_minor": 5
}
