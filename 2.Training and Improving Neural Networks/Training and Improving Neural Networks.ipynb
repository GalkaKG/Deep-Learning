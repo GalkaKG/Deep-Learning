{
 "cells": [
  {
   "cell_type": "markdown",
   "id": "d795b025-2d2f-48c6-9f4e-e4192f7f66aa",
   "metadata": {},
   "source": [
    "# Training and Improving Neural Networks"
   ]
  },
  {
   "cell_type": "code",
   "execution_count": 15,
   "id": "ec930817-0460-4dfb-b1f6-4fb061f6eb06",
   "metadata": {},
   "outputs": [],
   "source": [
    "import pandas as pd\n",
    "\n",
    "import tensorflow as tf\n",
    "from tensorflow.keras.datasets.fashion_mnist import load_data\n",
    "from tensorflow.keras.layers import Layer, Dense\n",
    "\n",
    "import torch\n",
    "import torch.nn as nn"
   ]
  },
  {
   "cell_type": "code",
   "execution_count": 8,
   "id": "488170bf-9a9b-4510-a5c9-21c0d1d18ca4",
   "metadata": {},
   "outputs": [],
   "source": [
    "# load_data()[0][0]"
   ]
  },
  {
   "cell_type": "markdown",
   "id": "7a9929a1-9063-4334-9e02-94fbe7ecc3bc",
   "metadata": {},
   "source": [
    "With tensorflow:"
   ]
  },
  {
   "cell_type": "code",
   "execution_count": 2,
   "id": "59d494cd-c8c9-4ce8-b316-37023d2f2796",
   "metadata": {},
   "outputs": [],
   "source": [
    "class MyLinear(Layer):\n",
    "    def __init__(self, units = 32, input_dim = 32):\n",
    "        super().__init__()\n",
    "        self.w = self.add_weight(\n",
    "            shape = (input_dim, units),\n",
    "            initializer = \"random_normal\")\n",
    "        self.b = self.add_weight(\n",
    "            shape = (units,),\n",
    "            initializer = \"zeros\")\n",
    "    \n",
    "    def call(self, inputs):\n",
    "        return tf.matmul(inputs, self.w) + self.b"
   ]
  },
  {
   "cell_type": "markdown",
   "id": "6122ea1f-4dd8-4b8d-ae9a-714b4eeccce2",
   "metadata": {},
   "source": [
    "With pytorch:"
   ]
  },
  {
   "cell_type": "code",
   "execution_count": 4,
   "id": "8de5738f-f26f-4d26-aea9-8f60198b98ce",
   "metadata": {},
   "outputs": [],
   "source": [
    "class MyLinear(nn.Module):\n",
    "    def __init__(self, in_units, units):\n",
    "        super().__init__()\n",
    "        self.weight = nn.Parameter(\n",
    "            torch.randn(in_units, units))\n",
    "        self.bias = nn.Parameter(\n",
    "            torch.randn(units,))\n",
    "    \n",
    "def forward(self, X):\n",
    "    return torch.matmul(\n",
    "        X, self.weight.data) + self.bias.data"
   ]
  },
  {
   "cell_type": "code",
   "execution_count": 11,
   "id": "47d47dc6-0dd2-4549-a56c-8ec1e3bfb043",
   "metadata": {},
   "outputs": [],
   "source": [
    "((attributes_train, labels_train), (attributes_test, labels_test)) = load_data()"
   ]
  },
  {
   "cell_type": "code",
   "execution_count": 13,
   "id": "ec93a2e4-ea56-4fe3-aed6-db840dbeb51d",
   "metadata": {},
   "outputs": [
    {
     "data": {
      "text/plain": [
       "(60000, 28, 28)"
      ]
     },
     "execution_count": 13,
     "metadata": {},
     "output_type": "execute_result"
    }
   ],
   "source": [
    "attributes_train.shape"
   ]
  },
  {
   "cell_type": "code",
   "execution_count": 16,
   "id": "5c020b7f-8ed3-48d6-b08d-64b1f18eb048",
   "metadata": {},
   "outputs": [
    {
     "data": {
      "text/plain": [
       "10"
      ]
     },
     "execution_count": 16,
     "metadata": {},
     "output_type": "execute_result"
    }
   ],
   "source": [
    "len(set(labels_train))"
   ]
  },
  {
   "cell_type": "code",
   "execution_count": 19,
   "id": "893e5a26-a6a5-49b3-a40a-62ae76ca4602",
   "metadata": {},
   "outputs": [
    {
     "data": {
      "text/plain": [
       "0    6000\n",
       "1    6000\n",
       "2    6000\n",
       "3    6000\n",
       "4    6000\n",
       "5    6000\n",
       "6    6000\n",
       "7    6000\n",
       "8    6000\n",
       "9    6000\n",
       "dtype: int64"
      ]
     },
     "execution_count": 19,
     "metadata": {},
     "output_type": "execute_result"
    }
   ],
   "source": [
    "pd.DataFrame(labels_train).value_counts()"
   ]
  },
  {
   "cell_type": "code",
   "execution_count": 20,
   "id": "ca40ac1d-2923-4113-8322-eb185a648b8e",
   "metadata": {},
   "outputs": [
    {
     "data": {
      "text/plain": [
       "0    1000\n",
       "1    1000\n",
       "2    1000\n",
       "3    1000\n",
       "4    1000\n",
       "5    1000\n",
       "6    1000\n",
       "7    1000\n",
       "8    1000\n",
       "9    1000\n",
       "dtype: int64"
      ]
     },
     "execution_count": 20,
     "metadata": {},
     "output_type": "execute_result"
    }
   ],
   "source": [
    "pd.DataFrame(labels_test).value_counts()"
   ]
  },
  {
   "cell_type": "code",
   "execution_count": 21,
   "id": "b5c6a8d3-3934-4992-9478-5edba5d294f0",
   "metadata": {},
   "outputs": [
    {
     "data": {
      "text/plain": [
       "(60000, 784)"
      ]
     },
     "execution_count": 21,
     "metadata": {},
     "output_type": "execute_result"
    }
   ],
   "source": [
    "attributes_train.reshape(60_000, -1).shape"
   ]
  },
  {
   "cell_type": "code",
   "execution_count": null,
   "id": "2654e2df-85ca-46a9-a2c5-4cb6636606a3",
   "metadata": {},
   "outputs": [],
   "source": [
    "layer1 = Dense(64)\n",
    "layer2 = Dense(128)\n",
    "layer3 = Dense(64)\n",
    "output_layer = "
   ]
  }
 ],
 "metadata": {
  "kernelspec": {
   "display_name": "Python 3 (ipykernel)",
   "language": "python",
   "name": "python3"
  },
  "language_info": {
   "codemirror_mode": {
    "name": "ipython",
    "version": 3
   },
   "file_extension": ".py",
   "mimetype": "text/x-python",
   "name": "python",
   "nbconvert_exporter": "python",
   "pygments_lexer": "ipython3",
   "version": "3.9.12"
  }
 },
 "nbformat": 4,
 "nbformat_minor": 5
}
