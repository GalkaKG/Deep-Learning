{
 "cells": [
  {
   "cell_type": "code",
   "execution_count": 1,
   "id": "3d01cb9e-1cfd-419c-b1f2-70f108d6e35b",
   "metadata": {},
   "outputs": [],
   "source": [
    "%matplotlib inline"
   ]
  },
  {
   "cell_type": "code",
   "execution_count": 4,
   "id": "e377d4fe-3fb5-431f-816b-04603bf4cb83",
   "metadata": {},
   "outputs": [],
   "source": [
    "import numpy as np\n",
    "import pandas as pd\n",
    "import matplotlib.pyplot as plt\n",
    "\n",
    "import tensorflow as tf\n",
    "\n",
    "from tensorflow.keras.models import Sequential\n",
    "from tensorflow.keras.layers import Input, Dense"
   ]
  },
  {
   "cell_type": "markdown",
   "id": "de2a6291-9bb0-4b62-a0fd-15af9b07e950",
   "metadata": {},
   "source": [
    "#  NNs for Images\n",
    "\n",
    "\n",
    "В Deep learning съществуват 3 вида основни архитектури по които можем да вадим фиичъри:\n",
    "\n",
    "- конволюции\n",
    "- attention\n",
    "- и гейтове"
   ]
  },
  {
   "cell_type": "code",
   "execution_count": 5,
   "id": "8748891d-2fb9-4a8f-baf0-4423a6da01cf",
   "metadata": {},
   "outputs": [
    {
     "data": {
      "text/plain": [
       "<Sequential name=sequential, built=True>"
      ]
     },
     "execution_count": 5,
     "metadata": {},
     "output_type": "execute_result"
    }
   ],
   "source": [
    "Sequential([\n",
    "    Input((20_000 * 1_000 * 3,)),\n",
    "    Dense(20, activation = \"relu\"),\n",
    "    Dense(10, activation = \"relu\"),\n",
    "    Dense(20, activation = \"relu\"),\n",
    "    \n",
    "    ]).summary()"
   ]
  },
  {
   "cell_type": "code",
   "execution_count": 6,
   "id": "bc34403f-598b-46b9-b9f5-633c500d82af",
   "metadata": {},
   "outputs": [
    {
     "name": "stdout",
     "output_type": "stream",
     "text": [
      "10\n"
     ]
    }
   ],
   "source": [
    "print(10)"
   ]
  }
 ],
 "metadata": {
  "kernelspec": {
   "display_name": "Python 3 (ipykernel)",
   "language": "python",
   "name": "python3"
  },
  "language_info": {
   "codemirror_mode": {
    "name": "ipython",
    "version": 3
   },
   "file_extension": ".py",
   "mimetype": "text/x-python",
   "name": "python",
   "nbconvert_exporter": "python",
   "pygments_lexer": "ipython3",
   "version": "3.9.12"
  }
 },
 "nbformat": 4,
 "nbformat_minor": 5
}
