{
 "cells": [
  {
   "cell_type": "markdown",
   "id": "c4ba2c00-6182-46fe-aecb-6b6c00aad01c",
   "metadata": {},
   "source": [
    "# PyTorch exercises"
   ]
  },
  {
   "cell_type": "code",
   "execution_count": 1,
   "id": "eb4e5ea7-9b55-4173-9f3d-e09881d9d799",
   "metadata": {},
   "outputs": [],
   "source": [
    "import torch"
   ]
  },
  {
   "cell_type": "markdown",
   "id": "7a0a0f25-6983-4aa1-8c6e-9025c6beaeba",
   "metadata": {},
   "source": [
    "torch.empty(size): ininitialized"
   ]
  },
  {
   "cell_type": "code",
   "execution_count": 2,
   "id": "83b3cd6c-8a34-49a5-9840-6ad32f6276a3",
   "metadata": {},
   "outputs": [
    {
     "data": {
      "text/plain": [
       "tensor([0.])"
      ]
     },
     "execution_count": 2,
     "metadata": {},
     "output_type": "execute_result"
    }
   ],
   "source": [
    "torch.empty(1) # scalar"
   ]
  },
  {
   "cell_type": "code",
   "execution_count": 3,
   "id": "f8cc26ed-3293-4108-b361-76e5a5256bbf",
   "metadata": {},
   "outputs": [
    {
     "data": {
      "text/plain": [
       "tensor([0., 0., 0.])"
      ]
     },
     "execution_count": 3,
     "metadata": {},
     "output_type": "execute_result"
    }
   ],
   "source": [
    "torch.empty(3) # vector"
   ]
  },
  {
   "cell_type": "code",
   "execution_count": 7,
   "id": "d797e5a8-7ca8-42c9-85a7-6e380149182c",
   "metadata": {},
   "outputs": [
    {
     "data": {
      "text/plain": [
       "tensor([[0., 0., 0.],\n",
       "        [0., 0., 0.],\n",
       "        [0., 0., 0.]])"
      ]
     },
     "execution_count": 7,
     "metadata": {},
     "output_type": "execute_result"
    }
   ],
   "source": [
    "torch.empty(3, 3) # matrix"
   ]
  },
  {
   "cell_type": "markdown",
   "id": "2e27c2ea-2be7-4569-b807-51b53e9d4456",
   "metadata": {},
   "source": [
    "torch.rand(size): random numbers [0, 1]"
   ]
  },
  {
   "cell_type": "code",
   "execution_count": 8,
   "id": "1c805afb-1618-438f-9b1c-65326af1043c",
   "metadata": {},
   "outputs": [
    {
     "data": {
      "text/plain": [
       "tensor([[0.7335, 0.9137, 0.4459],\n",
       "        [0.4957, 0.1779, 0.0030],\n",
       "        [0.7744, 0.4412, 0.4895],\n",
       "        [0.4539, 0.0896, 0.3099],\n",
       "        [0.6028, 0.1370, 0.5568]])"
      ]
     },
     "execution_count": 8,
     "metadata": {},
     "output_type": "execute_result"
    }
   ],
   "source": [
    "torch.rand(5, 3)"
   ]
  },
  {
   "cell_type": "markdown",
   "id": "f3b7dfd6-8409-413e-95cf-fb757d156680",
   "metadata": {},
   "source": [
    "torch.zeros(size), fill with 0  <br/>\n",
    "torch.ones(size), fill with 1"
   ]
  },
  {
   "cell_type": "code",
   "execution_count": 9,
   "id": "b768d6a8-f9cd-4865-b9db-2be69b7d024f",
   "metadata": {},
   "outputs": [
    {
     "data": {
      "text/plain": [
       "tensor([[0., 0., 0.],\n",
       "        [0., 0., 0.],\n",
       "        [0., 0., 0.],\n",
       "        [0., 0., 0.],\n",
       "        [0., 0., 0.]])"
      ]
     },
     "execution_count": 9,
     "metadata": {},
     "output_type": "execute_result"
    }
   ],
   "source": [
    "torch.zeros(5, 3)"
   ]
  },
  {
   "cell_type": "code",
   "execution_count": 12,
   "id": "cdf4ccd2-bcb4-4015-aaf2-5c3aa966df18",
   "metadata": {},
   "outputs": [
    {
     "data": {
      "text/plain": [
       "tensor([[1., 1., 1.],\n",
       "        [1., 1., 1.]])"
      ]
     },
     "execution_count": 12,
     "metadata": {},
     "output_type": "execute_result"
    }
   ],
   "source": [
    "torch.ones(2, 3)"
   ]
  },
  {
   "cell_type": "markdown",
   "id": "13e2a889-b0f5-4bb5-8745-0dfb24c0f672",
   "metadata": {},
   "source": [
    "check size"
   ]
  },
  {
   "cell_type": "code",
   "execution_count": 13,
   "id": "d0eb3e67-0fe4-49d1-b4e5-001d1623ff74",
   "metadata": {},
   "outputs": [
    {
     "data": {
      "text/plain": [
       "torch.Size([5, 3])"
      ]
     },
     "execution_count": 13,
     "metadata": {},
     "output_type": "execute_result"
    }
   ],
   "source": [
    "x = torch.rand(5, 3)\n",
    "x.size()"
   ]
  },
  {
   "cell_type": "code",
   "execution_count": 14,
   "id": "739fb101-6693-46c5-9e1b-2fe590cfa10a",
   "metadata": {},
   "outputs": [
    {
     "data": {
      "text/plain": [
       "torch.Size([5, 3])"
      ]
     },
     "execution_count": 14,
     "metadata": {},
     "output_type": "execute_result"
    }
   ],
   "source": [
    "x.shape"
   ]
  },
  {
   "cell_type": "code",
   "execution_count": 15,
   "id": "502e4732-25e9-459a-b5d7-9ef6856f04b6",
   "metadata": {},
   "outputs": [
    {
     "data": {
      "text/plain": [
       "torch.float32"
      ]
     },
     "execution_count": 15,
     "metadata": {},
     "output_type": "execute_result"
    }
   ],
   "source": [
    "x.dtype"
   ]
  },
  {
   "cell_type": "markdown",
   "id": "195dff07-3bdc-4375-b902-25c6384b431a",
   "metadata": {},
   "source": [
    "specify types, float32 default"
   ]
  },
  {
   "cell_type": "code",
   "execution_count": 16,
   "id": "8413758c-1506-4fbd-ad34-f92909765219",
   "metadata": {},
   "outputs": [],
   "source": [
    "x = torch.zeros(5, 3, dtype = torch.float16)"
   ]
  },
  {
   "cell_type": "code",
   "execution_count": 17,
   "id": "ce477a3c-bc96-48db-bc43-9e04ab452737",
   "metadata": {},
   "outputs": [
    {
     "data": {
      "text/plain": [
       "tensor([[0., 0., 0.],\n",
       "        [0., 0., 0.],\n",
       "        [0., 0., 0.],\n",
       "        [0., 0., 0.],\n",
       "        [0., 0., 0.]], dtype=torch.float16)"
      ]
     },
     "execution_count": 17,
     "metadata": {},
     "output_type": "execute_result"
    }
   ],
   "source": [
    "x"
   ]
  },
  {
   "cell_type": "markdown",
   "id": "629aa2c8-3595-4037-a5c8-d0917f14e307",
   "metadata": {},
   "source": [
    "construc from data"
   ]
  },
  {
   "cell_type": "code",
   "execution_count": 20,
   "id": "49f704d4-b5f2-4d7f-813c-fa90addc65a9",
   "metadata": {},
   "outputs": [
    {
     "name": "stdout",
     "output_type": "stream",
     "text": [
      "tensor([5.5000, 3.0000]) torch.float32\n"
     ]
    }
   ],
   "source": [
    "x = torch.tensor([5.5, 3])\n",
    "print(x, x.dtype)"
   ]
  },
  {
   "cell_type": "markdown",
   "id": "17e3c90a-af1b-4521-a41e-ea47c4628e14",
   "metadata": {},
   "source": [
    "requires_grad argument <br/>\n",
    "This will tell pytorch that it will need to calculate the gradients for this tensor"
   ]
  },
  {
   "cell_type": "code",
   "execution_count": 22,
   "id": "acbcc408-ae31-4d73-b6e2-b3367808a99a",
   "metadata": {},
   "outputs": [
    {
     "data": {
      "text/plain": [
       "tensor([5.5000, 3.0000], requires_grad=True)"
      ]
     },
     "execution_count": 22,
     "metadata": {},
     "output_type": "execute_result"
    }
   ],
   "source": [
    "torch.tensor([5.5, 3], requires_grad = True)"
   ]
  },
  {
   "cell_type": "markdown",
   "id": "09ade3c2-668f-44ba-a9f6-ac713189be37",
   "metadata": {},
   "source": [
    "#### Operations with Tensors"
   ]
  },
  {
   "cell_type": "code",
   "execution_count": 25,
   "id": "00ea3d9f-6629-41ac-85aa-1d1bcc7283b6",
   "metadata": {},
   "outputs": [
    {
     "name": "stdout",
     "output_type": "stream",
     "text": [
      "tensor([[1., 1.],\n",
      "        [1., 1.]])\n",
      "tensor([[0.0960, 0.8220],\n",
      "        [0.9964, 0.3384]])\n",
      "tensor([[1.0960, 1.8220],\n",
      "        [1.9964, 1.3384]])\n"
     ]
    }
   ],
   "source": [
    "x = torch.ones(2, 2)\n",
    "y = torch.rand(2, 2)\n",
    "\n",
    "z = x + y\n",
    "\n",
    "print(x)\n",
    "print(y)\n",
    "print(z)"
   ]
  },
  {
   "cell_type": "code",
   "execution_count": 28,
   "id": "e7d463d9-9a3c-412c-87db-938825c240d0",
   "metadata": {},
   "outputs": [
    {
     "data": {
      "text/plain": [
       "tensor([[0.9040, 0.1780],\n",
       "        [0.0036, 0.6616]])"
      ]
     },
     "execution_count": 28,
     "metadata": {},
     "output_type": "execute_result"
    }
   ],
   "source": [
    "z = x - y\n",
    "\n",
    "z"
   ]
  },
  {
   "cell_type": "code",
   "execution_count": 27,
   "id": "c4adb504-d8a1-4794-8627-259b66bfe3fa",
   "metadata": {},
   "outputs": [
    {
     "data": {
      "text/plain": [
       "tensor([[0.0960, 0.8220],\n",
       "        [0.9964, 0.3384]])"
      ]
     },
     "execution_count": 27,
     "metadata": {},
     "output_type": "execute_result"
    }
   ],
   "source": [
    "z = x * y\n",
    "\n",
    "z"
   ]
  },
  {
   "cell_type": "code",
   "execution_count": 26,
   "id": "c6b86918-28ea-46de-aa81-49caecd7cc6d",
   "metadata": {},
   "outputs": [
    {
     "data": {
      "text/plain": [
       "tensor([[10.4125,  1.2166],\n",
       "        [ 1.0036,  2.9555]])"
      ]
     },
     "execution_count": 26,
     "metadata": {},
     "output_type": "execute_result"
    }
   ],
   "source": [
    "z = x / y\n",
    "\n",
    "z"
   ]
  },
  {
   "cell_type": "code",
   "execution_count": null,
   "id": "11ae14f5-8512-496e-a086-61383812f424",
   "metadata": {},
   "outputs": [],
   "source": []
  },
  {
   "cell_type": "code",
   "execution_count": null,
   "id": "ca77573c-339b-4d54-a69b-d779ede2e5b3",
   "metadata": {},
   "outputs": [],
   "source": []
  }
 ],
 "metadata": {
  "kernelspec": {
   "display_name": "Python 3 (ipykernel)",
   "language": "python",
   "name": "python3"
  },
  "language_info": {
   "codemirror_mode": {
    "name": "ipython",
    "version": 3
   },
   "file_extension": ".py",
   "mimetype": "text/x-python",
   "name": "python",
   "nbconvert_exporter": "python",
   "pygments_lexer": "ipython3",
   "version": "3.9.12"
  }
 },
 "nbformat": 4,
 "nbformat_minor": 5
}
